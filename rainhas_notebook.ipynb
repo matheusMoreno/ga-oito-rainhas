{
 "cells": [
  {
   "cell_type": "markdown",
   "metadata": {},
   "source": [
    "# Regras do Algoritmo\n",
    "\n",
    "1. Começamos com 6 pais, nossa geração zero, criados aleatoriamente. Para facilitarmos o código e a lógica do problema, tanto os pais quanto gerações subsequentes terão 1 rainha por linha, para não nos preocuparmos com rainhas em linhas iguais.\n",
    "2. O gene de cada pai é formado por 8 inteiros entre 1 e 8 (inclusive). O primeiro valor é a coluna que se encontra a rainha da primeira linha, o segundo é a coluna que se encontra a rainha da segunda linha e assim sucessivamente.\n",
    "3. Recombinamos os pais entre si, escolhendo de maneira aleatória que gene será herdado (do pai A ou B). Como temos muitas combinações possíveis, vamos nos limitar a 2 cruzamento por par de pais, gerando então 30 filhos.\n",
    "4. Inserimos uma mutação (também aleatória!) em 6 filhos escolhidos aleatoriamente. A mutação consiste na substituição de um valor do gene por outro.\n",
    "5. Contamos quantos ataques ocorrem por configuração e selecionamos as 5 melhores (menor número de ataques, menor não-aptidão) e um aleatório, descartando o resto.\n",
    "6. Repetimos o processo a cada nova geração, até termos 5 gerações."
   ]
  },
  {
   "cell_type": "code",
   "execution_count": 1,
   "metadata": {
    "collapsed": true
   },
   "outputs": [],
   "source": [
    "from random import randint\n",
    "from collections import Counter"
   ]
  },
  {
   "cell_type": "code",
   "execution_count": 2,
   "metadata": {
    "collapsed": true
   },
   "outputs": [],
   "source": [
    "def geracao_inicial():\n",
    "    \"\"\"Retorna uma lista com 6 pais para a geracao 0, cada um com 8 inteiros em [1, 8].\"\"\"\n",
    "    return [[randint(1, 8) for y in range(8)] for x in range(6)]"
   ]
  },
  {
   "cell_type": "code",
   "execution_count": 3,
   "metadata": {
    "collapsed": true,
    "scrolled": true
   },
   "outputs": [],
   "source": [
    "def recombinacao(pais):\n",
    "    \"\"\"Retorna uma lista com filhos gerados de recombinacoes aleatorias.\"\"\"\n",
    "    \n",
    "    filhos = []\n",
    "    for x in range(6):\n",
    "        for y in range(6):\n",
    "            if (x != y):\n",
    "                filhos += [[(pais[x][k] if (randint(0, 1) == 0) else pais[y][k]) for k in range(8)]]\n",
    "    return filhos"
   ]
  },
  {
   "cell_type": "code",
   "execution_count": 4,
   "metadata": {
    "collapsed": true
   },
   "outputs": [],
   "source": [
    "def mutacao(filhos):\n",
    "    \"\"\"Insere um gene de mutacao aleatorio em 6 filhos aleatorios.\"\"\"\n",
    "    \n",
    "    mutantes = []\n",
    "    index = []\n",
    "    \n",
    "    # Para que nao repetamos filhos, esse bloco gera 6 indices diferentes.\n",
    "    while (len(index) != 6):\n",
    "        p_i = randint(0, 29)\n",
    "        if not (p_i in index):\n",
    "            index += [p_i]\n",
    "    \n",
    "    # Inserimos a mutacao em cada filho.\n",
    "    for i in index:\n",
    "        mut = filhos[i]\n",
    "        i_m = randint(0, 7)\n",
    "        novo_gene = randint(1, 8)\n",
    "        while (mut[i_m] == novo_gene): # Se o novo valor for o mesmo que o antigo,\n",
    "            novo_gene = randint(1, 8)  # nao havera mutacao! Precisamos checar isso\n",
    "        mut[i_m] = novo_gene\n",
    "        mutantes += [mut]\n",
    "        \n",
    "    return mutantes"
   ]
  },
  {
   "cell_type": "code",
   "execution_count": 5,
   "metadata": {
    "collapsed": true
   },
   "outputs": [],
   "source": [
    "def contagem_ataques(gene_pool):\n",
    "    \"\"\"Retorna a quantidade de ataques presentes em cada membro de gene_pool.\"\"\"\n",
    "    \n",
    "    # Para uma das checagens diagonais, precisamos de um vetor de pesos.\n",
    "    pesos = [7, 5, 3, 1, -1, -3, -5, -7]\n",
    "    ataques = []\n",
    "    \n",
    "    for ser in gene_pool:\n",
    "        diagonais_1 = [x + ser[x] for x in range(8)]\n",
    "        diagonais_2 = [x + ser[x] + pesos[x] for x in range(8)]\n",
    "        qtd = 0\n",
    "        for l in range(8):\n",
    "            qtd += Counter(ser)[ser[l]] - 1\n",
    "            qtd += Counter(diagonais_1)[diagonais_1[l]] - 1\n",
    "            qtd += Counter(diagonais_2)[diagonais_2[l]] - 1\n",
    "        ataques += [int(qtd/2)]\n",
    "    \n",
    "    return ataques"
   ]
  },
  {
   "cell_type": "code",
   "execution_count": 6,
   "metadata": {
    "collapsed": true
   },
   "outputs": [],
   "source": [
    "def melhores_pior(gene_pool, ataques):\n",
    "    \"\"\"Escolhe os 5 melhores e um piot ser de gene_pool, baseado em suas qtds de ataques.\"\"\"\n",
    "    \n",
    "    # Juntamos os dois vetores e os organizamos pela quantidade de ataques.\n",
    "    ser_ataque = [[gene_pool[k], ataques[k]] for k in range(len(gene_pool))]\n",
    "    organizado = sorted(ser_ataque, key=lambda e: e[1])\n",
    "    melhor_pior = organizado[:5] + [organizado[randint(5, len(organizado)-1)]]\n",
    "    \n",
    "    # Imprimimos na tela os escolhidos.\n",
    "    for x in melhor_pior:\n",
    "        print(\"Gene: {} // Ataques: {}\".format(x[0], x[1]))\n",
    "        \n",
    "    return [x[0] for x in melhor_pior]"
   ]
  },
  {
   "cell_type": "markdown",
   "metadata": {},
   "source": [
    "## Hora de testar o código!"
   ]
  },
  {
   "cell_type": "markdown",
   "metadata": {},
   "source": [
    "### Geração 1"
   ]
  },
  {
   "cell_type": "code",
   "execution_count": 7,
   "metadata": {},
   "outputs": [
    {
     "data": {
      "text/plain": [
       "[[4, 4, 5, 1, 5, 4, 1, 3],\n",
       " [4, 1, 1, 5, 6, 3, 6, 8],\n",
       " [2, 4, 2, 1, 4, 6, 8, 2],\n",
       " [3, 7, 2, 5, 5, 6, 7, 6],\n",
       " [1, 6, 4, 7, 4, 3, 8, 6],\n",
       " [8, 2, 7, 2, 4, 1, 1, 4]]"
      ]
     },
     "execution_count": 7,
     "metadata": {},
     "output_type": "execute_result"
    }
   ],
   "source": [
    "pais1 = geracao_inicial()\n",
    "pais1"
   ]
  },
  {
   "cell_type": "code",
   "execution_count": 8,
   "metadata": {},
   "outputs": [
    {
     "name": "stdout",
     "output_type": "stream",
     "text": [
      "[9, 5, 7, 8, 4, 4]\n"
     ]
    }
   ],
   "source": [
    "atk_pais1 = contagem_ataques(pais1)\n",
    "print(atk_pais1)"
   ]
  },
  {
   "cell_type": "code",
   "execution_count": 9,
   "metadata": {},
   "outputs": [
    {
     "data": {
      "text/plain": [
       "[[4, 4, 5, 5, 6, 4, 1, 3],\n",
       " [4, 4, 2, 1, 4, 4, 1, 3],\n",
       " [3, 4, 5, 1, 5, 6, 7, 3],\n",
       " [4, 6, 4, 1, 5, 3, 1, 3],\n",
       " [4, 4, 7, 2, 4, 1, 1, 4],\n",
       " [4, 1, 5, 5, 5, 4, 6, 8],\n",
       " [4, 4, 2, 1, 4, 3, 6, 8],\n",
       " [3, 7, 1, 5, 6, 3, 7, 6],\n",
       " [1, 6, 4, 7, 6, 3, 6, 8],\n",
       " [4, 1, 7, 2, 4, 3, 6, 4],\n",
       " [2, 4, 2, 1, 5, 4, 8, 2],\n",
       " [4, 4, 2, 1, 4, 6, 8, 8],\n",
       " [2, 4, 2, 1, 4, 6, 7, 2],\n",
       " [1, 6, 4, 7, 4, 3, 8, 2],\n",
       " [2, 4, 7, 1, 4, 1, 8, 2],\n",
       " [4, 7, 5, 5, 5, 4, 1, 3],\n",
       " [4, 7, 2, 5, 6, 3, 6, 6],\n",
       " [3, 7, 2, 5, 4, 6, 7, 6],\n",
       " [3, 6, 4, 5, 4, 6, 7, 6],\n",
       " [3, 7, 2, 5, 5, 1, 1, 6],\n",
       " [1, 4, 4, 1, 4, 3, 1, 6],\n",
       " [4, 1, 4, 5, 4, 3, 8, 8],\n",
       " [2, 6, 2, 7, 4, 6, 8, 2],\n",
       " [1, 6, 4, 5, 4, 3, 7, 6],\n",
       " [8, 2, 4, 2, 4, 3, 1, 4],\n",
       " [4, 2, 5, 2, 4, 4, 1, 3],\n",
       " [4, 1, 1, 2, 6, 1, 1, 4],\n",
       " [2, 2, 2, 2, 4, 6, 8, 4],\n",
       " [3, 2, 7, 2, 4, 1, 7, 4],\n",
       " [1, 2, 7, 2, 4, 3, 8, 4]]"
      ]
     },
     "execution_count": 9,
     "metadata": {},
     "output_type": "execute_result"
    }
   ],
   "source": [
    "fils1 = recombinacao(pais1)\n",
    "fils1"
   ]
  },
  {
   "cell_type": "code",
   "execution_count": 10,
   "metadata": {
    "scrolled": false
   },
   "outputs": [
    {
     "name": "stdout",
     "output_type": "stream",
     "text": [
      "[8, 11, 8, 6, 8, 7, 11, 10, 6, 7, 9, 9, 7, 3, 5, 7, 9, 8, 8, 3, 8, 11, 6, 8, 7, 6, 8, 11, 5, 4]\n"
     ]
    }
   ],
   "source": [
    "atk_fils1 = contagem_ataques(fils1)\n",
    "print(atk_fils1)"
   ]
  },
  {
   "cell_type": "code",
   "execution_count": 11,
   "metadata": {},
   "outputs": [
    {
     "data": {
      "text/plain": [
       "[[8, 2, 4, 2, 4, 3, 3, 4],\n",
       " [4, 7, 5, 5, 5, 4, 4, 3],\n",
       " [6, 6, 4, 7, 4, 3, 8, 2],\n",
       " [5, 4, 7, 1, 4, 1, 8, 2],\n",
       " [4, 1, 5, 5, 5, 4, 6, 6],\n",
       " [2, 2, 3, 2, 4, 6, 8, 4]]"
      ]
     },
     "execution_count": 11,
     "metadata": {},
     "output_type": "execute_result"
    }
   ],
   "source": [
    "muts1 = mutacao(fils1)\n",
    "muts1"
   ]
  },
  {
   "cell_type": "code",
   "execution_count": 12,
   "metadata": {},
   "outputs": [
    {
     "name": "stdout",
     "output_type": "stream",
     "text": [
      "[9, 9, 5, 5, 8, 10]\n"
     ]
    }
   ],
   "source": [
    "atk_muts1 = contagem_ataques(muts1)\n",
    "print(atk_muts1)"
   ]
  },
  {
   "cell_type": "code",
   "execution_count": 13,
   "metadata": {
    "collapsed": true
   },
   "outputs": [],
   "source": [
    "gp1 = pais1 + fils1 + muts1\n",
    "atk_gp1 = atk_pais1 + atk_fils1 + atk_muts1"
   ]
  },
  {
   "cell_type": "code",
   "execution_count": 14,
   "metadata": {},
   "outputs": [
    {
     "name": "stdout",
     "output_type": "stream",
     "text": [
      "Gene: [6, 6, 4, 7, 4, 3, 8, 2] // Ataques: 3\n",
      "Gene: [3, 7, 2, 5, 5, 1, 1, 6] // Ataques: 3\n",
      "Gene: [1, 6, 4, 7, 4, 3, 8, 6] // Ataques: 4\n",
      "Gene: [8, 2, 7, 2, 4, 1, 1, 4] // Ataques: 4\n",
      "Gene: [1, 2, 7, 2, 4, 3, 8, 4] // Ataques: 4\n",
      "Gene: [2, 2, 3, 2, 4, 6, 8, 4] // Ataques: 11\n"
     ]
    }
   ],
   "source": [
    "pais2 = melhores_pior(gp1, atk_gp1)"
   ]
  },
  {
   "cell_type": "markdown",
   "metadata": {},
   "source": [
    "### Geração 2"
   ]
  },
  {
   "cell_type": "code",
   "execution_count": 15,
   "metadata": {},
   "outputs": [
    {
     "name": "stdout",
     "output_type": "stream",
     "text": [
      "[5, 3, 4, 4, 4, 10]\n"
     ]
    }
   ],
   "source": [
    "atk_pais2 = contagem_ataques(pais2)\n",
    "print(atk_pais2)"
   ]
  },
  {
   "cell_type": "code",
   "execution_count": 16,
   "metadata": {},
   "outputs": [
    {
     "data": {
      "text/plain": [
       "[[3, 6, 4, 5, 4, 1, 1, 2],\n",
       " [6, 6, 4, 7, 4, 3, 8, 2],\n",
       " [6, 2, 4, 7, 4, 3, 1, 4],\n",
       " [1, 6, 7, 2, 4, 3, 8, 4],\n",
       " [6, 2, 4, 2, 4, 3, 8, 2],\n",
       " [6, 7, 2, 7, 4, 1, 1, 2],\n",
       " [1, 7, 2, 7, 4, 1, 1, 6],\n",
       " [3, 7, 2, 2, 4, 1, 1, 4],\n",
       " [1, 2, 7, 2, 4, 1, 1, 6],\n",
       " [3, 7, 3, 2, 5, 1, 8, 6],\n",
       " [6, 6, 4, 7, 4, 3, 8, 2],\n",
       " [3, 6, 2, 5, 5, 3, 1, 6],\n",
       " [8, 2, 7, 2, 4, 1, 1, 4],\n",
       " [1, 2, 7, 7, 4, 3, 8, 6],\n",
       " [2, 6, 3, 2, 4, 6, 8, 4],\n",
       " [8, 6, 7, 2, 4, 1, 1, 2],\n",
       " [8, 2, 2, 5, 4, 1, 1, 4],\n",
       " [8, 6, 4, 7, 4, 3, 1, 4],\n",
       " [1, 2, 7, 2, 4, 3, 8, 4],\n",
       " [2, 2, 3, 2, 4, 6, 1, 4],\n",
       " [1, 2, 7, 7, 4, 3, 8, 2],\n",
       " [3, 7, 7, 2, 4, 1, 8, 6],\n",
       " [1, 6, 7, 2, 4, 3, 8, 6],\n",
       " [1, 2, 7, 2, 4, 3, 8, 4],\n",
       " [2, 2, 3, 2, 4, 6, 8, 4],\n",
       " [2, 2, 3, 2, 4, 6, 8, 2],\n",
       " [2, 2, 2, 2, 4, 6, 1, 6],\n",
       " [2, 2, 4, 2, 4, 6, 8, 6],\n",
       " [2, 2, 3, 2, 4, 1, 8, 4],\n",
       " [2, 2, 7, 2, 4, 3, 8, 4]]"
      ]
     },
     "execution_count": 16,
     "metadata": {},
     "output_type": "execute_result"
    }
   ],
   "source": [
    "fils2 = recombinacao(pais2)\n",
    "fils2"
   ]
  },
  {
   "cell_type": "code",
   "execution_count": 17,
   "metadata": {
    "scrolled": false
   },
   "outputs": [
    {
     "name": "stdout",
     "output_type": "stream",
     "text": [
      "[7, 5, 5, 3, 7, 8, 6, 5, 6, 4, 5, 5, 4, 3, 7, 7, 7, 7, 4, 9, 5, 3, 4, 4, 10, 11, 10, 10, 7, 6]\n"
     ]
    }
   ],
   "source": [
    "atk_fils2 = contagem_ataques(fils2)\n",
    "print(atk_fils2)"
   ]
  },
  {
   "cell_type": "code",
   "execution_count": 18,
   "metadata": {},
   "outputs": [
    {
     "data": {
      "text/plain": [
       "[[3, 7, 3, 2, 5, 2, 8, 6],\n",
       " [2, 2, 2, 2, 4, 3, 8, 4],\n",
       " [2, 2, 3, 2, 3, 6, 8, 4],\n",
       " [2, 2, 3, 8, 4, 6, 8, 2],\n",
       " [1, 6, 6, 2, 4, 3, 8, 4],\n",
       " [1, 5, 2, 7, 4, 1, 1, 6]]"
      ]
     },
     "execution_count": 18,
     "metadata": {},
     "output_type": "execute_result"
    }
   ],
   "source": [
    "muts2 = mutacao(fils2)\n",
    "muts2"
   ]
  },
  {
   "cell_type": "code",
   "execution_count": 19,
   "metadata": {},
   "outputs": [
    {
     "name": "stdout",
     "output_type": "stream",
     "text": [
      "[5, 10, 11, 9, 5, 6]\n"
     ]
    }
   ],
   "source": [
    "atk_muts2 = contagem_ataques(muts2)\n",
    "print(atk_muts2)"
   ]
  },
  {
   "cell_type": "code",
   "execution_count": 20,
   "metadata": {
    "collapsed": true
   },
   "outputs": [],
   "source": [
    "gp2 = pais2 + fils2 + muts2\n",
    "atk_gp2 = atk_pais2 + atk_fils2 + atk_muts2"
   ]
  },
  {
   "cell_type": "code",
   "execution_count": 21,
   "metadata": {},
   "outputs": [
    {
     "name": "stdout",
     "output_type": "stream",
     "text": [
      "Gene: [3, 7, 2, 5, 5, 1, 1, 6] // Ataques: 3\n",
      "Gene: [1, 6, 6, 2, 4, 3, 8, 4] // Ataques: 3\n",
      "Gene: [1, 2, 7, 7, 4, 3, 8, 6] // Ataques: 3\n",
      "Gene: [3, 7, 7, 2, 4, 1, 8, 6] // Ataques: 3\n",
      "Gene: [1, 6, 4, 7, 4, 3, 8, 6] // Ataques: 4\n",
      "Gene: [1, 5, 2, 7, 4, 1, 1, 6] // Ataques: 6\n"
     ]
    }
   ],
   "source": [
    "pais3 = melhores_pior(gp2, atk_gp2)"
   ]
  },
  {
   "cell_type": "markdown",
   "metadata": {},
   "source": [
    "### Geração 3"
   ]
  },
  {
   "cell_type": "code",
   "execution_count": 22,
   "metadata": {},
   "outputs": [
    {
     "name": "stdout",
     "output_type": "stream",
     "text": [
      "[3, 5, 3, 3, 4, 6]\n"
     ]
    }
   ],
   "source": [
    "atk_pais3 = contagem_ataques(pais3)\n",
    "print(atk_pais3)"
   ]
  },
  {
   "cell_type": "code",
   "execution_count": 23,
   "metadata": {},
   "outputs": [
    {
     "data": {
      "text/plain": [
       "[[1, 6, 6, 2, 4, 1, 1, 4],\n",
       " [1, 7, 2, 5, 4, 1, 1, 6],\n",
       " [3, 7, 7, 5, 5, 1, 8, 6],\n",
       " [3, 7, 2, 5, 5, 3, 1, 6],\n",
       " [3, 5, 2, 7, 5, 1, 1, 6],\n",
       " [3, 7, 6, 2, 4, 1, 1, 4],\n",
       " [1, 6, 7, 2, 4, 3, 8, 4],\n",
       " [1, 6, 7, 2, 4, 3, 8, 4],\n",
       " [1, 6, 6, 2, 4, 3, 8, 4],\n",
       " [1, 5, 6, 2, 4, 1, 1, 4],\n",
       " [3, 7, 2, 7, 4, 1, 1, 6],\n",
       " [1, 6, 7, 2, 4, 3, 8, 6],\n",
       " [3, 7, 7, 2, 4, 1, 8, 6],\n",
       " [1, 2, 7, 7, 4, 3, 8, 6],\n",
       " [1, 2, 7, 7, 4, 1, 8, 6],\n",
       " [3, 7, 7, 2, 5, 1, 8, 6],\n",
       " [3, 7, 6, 2, 4, 3, 8, 4],\n",
       " [1, 7, 7, 2, 4, 3, 8, 6],\n",
       " [1, 6, 4, 2, 4, 3, 8, 6],\n",
       " [3, 7, 2, 2, 4, 1, 8, 6],\n",
       " [3, 7, 2, 7, 5, 3, 8, 6],\n",
       " [1, 6, 6, 7, 4, 3, 8, 4],\n",
       " [1, 6, 7, 7, 4, 3, 8, 6],\n",
       " [1, 7, 4, 2, 4, 1, 8, 6],\n",
       " [1, 6, 4, 7, 4, 3, 8, 6],\n",
       " [3, 7, 2, 5, 5, 1, 1, 6],\n",
       " [1, 6, 6, 7, 4, 3, 8, 6],\n",
       " [1, 5, 7, 7, 4, 1, 8, 6],\n",
       " [3, 7, 2, 2, 4, 1, 8, 6],\n",
       " [1, 6, 4, 7, 4, 3, 8, 6]]"
      ]
     },
     "execution_count": 23,
     "metadata": {},
     "output_type": "execute_result"
    }
   ],
   "source": [
    "fils3 = recombinacao(pais3)\n",
    "fils3"
   ]
  },
  {
   "cell_type": "code",
   "execution_count": 24,
   "metadata": {
    "scrolled": false
   },
   "outputs": [
    {
     "name": "stdout",
     "output_type": "stream",
     "text": [
      "[7, 7, 5, 5, 4, 5, 3, 3, 5, 7, 4, 4, 3, 3, 3, 3, 8, 5, 5, 4, 3, 6, 4, 6, 4, 3, 7, 4, 4, 4]\n"
     ]
    }
   ],
   "source": [
    "atk_fils3 = contagem_ataques(fils3)\n",
    "print(atk_fils3)"
   ]
  },
  {
   "cell_type": "code",
   "execution_count": 25,
   "metadata": {},
   "outputs": [
    {
     "data": {
      "text/plain": [
       "[[1, 6, 7, 2, 4, 1, 8, 4],\n",
       " [1, 6, 6, 2, 4, 4, 1, 4],\n",
       " [1, 6, 4, 6, 4, 3, 8, 6],\n",
       " [8, 6, 6, 2, 4, 3, 8, 4],\n",
       " [1, 6, 7, 8, 4, 3, 8, 6],\n",
       " [3, 7, 2, 2, 4, 5, 8, 6]]"
      ]
     },
     "execution_count": 25,
     "metadata": {},
     "output_type": "execute_result"
    }
   ],
   "source": [
    "muts3 = mutacao(fils3)\n",
    "muts3"
   ]
  },
  {
   "cell_type": "code",
   "execution_count": 26,
   "metadata": {},
   "outputs": [
    {
     "name": "stdout",
     "output_type": "stream",
     "text": [
      "[3, 8, 6, 9, 6, 6]\n"
     ]
    }
   ],
   "source": [
    "atk_muts3 = contagem_ataques(muts3)\n",
    "print(atk_muts3)"
   ]
  },
  {
   "cell_type": "code",
   "execution_count": 27,
   "metadata": {
    "collapsed": true
   },
   "outputs": [],
   "source": [
    "gp3 = pais3 + fils3 + muts3\n",
    "atk_gp3 = atk_pais3 + atk_fils3 + atk_muts3"
   ]
  },
  {
   "cell_type": "code",
   "execution_count": 28,
   "metadata": {},
   "outputs": [
    {
     "name": "stdout",
     "output_type": "stream",
     "text": [
      "Gene: [3, 7, 2, 5, 5, 1, 1, 6] // Ataques: 3\n",
      "Gene: [1, 2, 7, 7, 4, 3, 8, 6] // Ataques: 3\n",
      "Gene: [3, 7, 7, 2, 4, 1, 8, 6] // Ataques: 3\n",
      "Gene: [1, 6, 7, 2, 4, 3, 8, 4] // Ataques: 3\n",
      "Gene: [1, 6, 7, 2, 4, 1, 8, 4] // Ataques: 3\n",
      "Gene: [8, 6, 6, 2, 4, 3, 8, 4] // Ataques: 9\n"
     ]
    }
   ],
   "source": [
    "pais4 = melhores_pior(gp3, atk_gp3)"
   ]
  },
  {
   "cell_type": "markdown",
   "metadata": {},
   "source": [
    "### Geração 4"
   ]
  },
  {
   "cell_type": "code",
   "execution_count": 29,
   "metadata": {},
   "outputs": [
    {
     "name": "stdout",
     "output_type": "stream",
     "text": [
      "[3, 3, 3, 3, 3, 9]\n"
     ]
    }
   ],
   "source": [
    "atk_pais4 = contagem_ataques(pais4)\n",
    "print(atk_pais4)"
   ]
  },
  {
   "cell_type": "code",
   "execution_count": 30,
   "metadata": {},
   "outputs": [
    {
     "data": {
      "text/plain": [
       "[[3, 2, 2, 7, 4, 3, 8, 6],\n",
       " [3, 7, 2, 2, 4, 1, 1, 6],\n",
       " [1, 6, 7, 5, 5, 1, 1, 4],\n",
       " [3, 6, 7, 5, 5, 1, 1, 6],\n",
       " [8, 7, 2, 5, 5, 3, 1, 4],\n",
       " [1, 2, 2, 5, 5, 3, 1, 6],\n",
       " [1, 7, 7, 2, 4, 1, 8, 6],\n",
       " [1, 6, 7, 2, 4, 3, 8, 4],\n",
       " [1, 6, 7, 7, 4, 1, 8, 6],\n",
       " [8, 2, 7, 7, 4, 3, 8, 4],\n",
       " [3, 7, 2, 2, 5, 1, 1, 6],\n",
       " [1, 2, 7, 7, 4, 1, 8, 6],\n",
       " [3, 7, 7, 2, 4, 3, 8, 4],\n",
       " [1, 6, 7, 2, 4, 1, 8, 4],\n",
       " [8, 6, 6, 2, 4, 1, 8, 6],\n",
       " [1, 7, 2, 5, 5, 3, 8, 4],\n",
       " [1, 2, 7, 7, 4, 3, 8, 4],\n",
       " [1, 6, 7, 2, 4, 3, 8, 4],\n",
       " [1, 6, 7, 2, 4, 1, 8, 4],\n",
       " [1, 6, 7, 2, 4, 3, 8, 4],\n",
       " [3, 7, 2, 2, 5, 1, 8, 4],\n",
       " [1, 6, 7, 2, 4, 3, 8, 4],\n",
       " [1, 7, 7, 2, 4, 1, 8, 4],\n",
       " [1, 6, 7, 2, 4, 3, 8, 4],\n",
       " [1, 6, 6, 2, 4, 1, 8, 4],\n",
       " [3, 7, 2, 2, 5, 1, 1, 4],\n",
       " [1, 2, 6, 7, 4, 3, 8, 6],\n",
       " [3, 7, 6, 2, 4, 1, 8, 4],\n",
       " [8, 6, 6, 2, 4, 3, 8, 4],\n",
       " [8, 6, 6, 2, 4, 3, 8, 4]]"
      ]
     },
     "execution_count": 30,
     "metadata": {},
     "output_type": "execute_result"
    }
   ],
   "source": [
    "fils4 = recombinacao(pais4)\n",
    "fils4"
   ]
  },
  {
   "cell_type": "code",
   "execution_count": 31,
   "metadata": {
    "scrolled": false
   },
   "outputs": [
    {
     "name": "stdout",
     "output_type": "stream",
     "text": [
      "[5, 5, 8, 6, 7, 7, 4, 3, 4, 6, 3, 3, 6, 3, 8, 6, 4, 3, 3, 3, 1, 3, 4, 3, 4, 2, 6, 4, 9, 9]\n"
     ]
    }
   ],
   "source": [
    "atk_fils4 = contagem_ataques(fils4)\n",
    "print(atk_fils4)"
   ]
  },
  {
   "cell_type": "code",
   "execution_count": 32,
   "metadata": {},
   "outputs": [
    {
     "data": {
      "text/plain": [
       "[[8, 2, 7, 7, 4, 4, 8, 4],\n",
       " [1, 6, 7, 2, 4, 5, 8, 4],\n",
       " [3, 7, 2, 7, 4, 1, 1, 6],\n",
       " [8, 7, 2, 5, 5, 3, 1, 3],\n",
       " [3, 7, 2, 6, 5, 1, 1, 6],\n",
       " [8, 6, 6, 2, 4, 3, 2, 4]]"
      ]
     },
     "execution_count": 32,
     "metadata": {},
     "output_type": "execute_result"
    }
   ],
   "source": [
    "muts4 = mutacao(fils4)\n",
    "muts4"
   ]
  },
  {
   "cell_type": "code",
   "execution_count": 33,
   "metadata": {},
   "outputs": [
    {
     "name": "stdout",
     "output_type": "stream",
     "text": [
      "[7, 3, 4, 8, 4, 13]\n"
     ]
    }
   ],
   "source": [
    "atk_muts4 = contagem_ataques(muts4)\n",
    "print(atk_muts4)"
   ]
  },
  {
   "cell_type": "code",
   "execution_count": 34,
   "metadata": {
    "collapsed": true
   },
   "outputs": [],
   "source": [
    "gp4 = pais4 + fils4 + muts4\n",
    "atk_gp4 = atk_pais4 + atk_fils4 + atk_muts4"
   ]
  },
  {
   "cell_type": "code",
   "execution_count": 35,
   "metadata": {
    "scrolled": true
   },
   "outputs": [
    {
     "name": "stdout",
     "output_type": "stream",
     "text": [
      "Gene: [3, 7, 2, 2, 5, 1, 8, 4] // Ataques: 1\n",
      "Gene: [3, 7, 2, 2, 5, 1, 1, 4] // Ataques: 2\n",
      "Gene: [3, 7, 2, 5, 5, 1, 1, 6] // Ataques: 3\n",
      "Gene: [1, 2, 7, 7, 4, 3, 8, 6] // Ataques: 3\n",
      "Gene: [3, 7, 7, 2, 4, 1, 8, 6] // Ataques: 3\n",
      "Gene: [1, 6, 7, 2, 4, 1, 8, 4] // Ataques: 3\n"
     ]
    }
   ],
   "source": [
    "pais5 = melhores_pior(gp4, atk_gp4)"
   ]
  },
  {
   "cell_type": "markdown",
   "metadata": {},
   "source": [
    "### Geração 5"
   ]
  },
  {
   "cell_type": "code",
   "execution_count": 36,
   "metadata": {},
   "outputs": [
    {
     "name": "stdout",
     "output_type": "stream",
     "text": [
      "[1, 2, 3, 3, 3, 3]\n"
     ]
    }
   ],
   "source": [
    "atk_pais5 = contagem_ataques(pais5)\n",
    "print(atk_pais5)"
   ]
  },
  {
   "cell_type": "code",
   "execution_count": 37,
   "metadata": {},
   "outputs": [
    {
     "data": {
      "text/plain": [
       "[[3, 7, 2, 2, 5, 1, 8, 4],\n",
       " [3, 7, 2, 5, 5, 1, 8, 4],\n",
       " [3, 2, 7, 7, 5, 1, 8, 4],\n",
       " [3, 7, 2, 2, 4, 1, 8, 6],\n",
       " [3, 7, 2, 2, 4, 1, 8, 4],\n",
       " [3, 7, 2, 2, 5, 1, 1, 4],\n",
       " [3, 7, 2, 2, 5, 1, 1, 6],\n",
       " [1, 2, 7, 7, 5, 3, 8, 4],\n",
       " [3, 7, 7, 2, 5, 1, 8, 6],\n",
       " [3, 7, 2, 2, 5, 1, 8, 4],\n",
       " [3, 7, 2, 2, 5, 1, 1, 4],\n",
       " [3, 7, 2, 5, 5, 1, 1, 6],\n",
       " [1, 7, 2, 7, 4, 3, 8, 6],\n",
       " [3, 7, 2, 5, 5, 1, 8, 6],\n",
       " [3, 6, 7, 2, 5, 1, 8, 4],\n",
       " [1, 7, 7, 7, 4, 1, 8, 4],\n",
       " [1, 2, 7, 7, 4, 3, 1, 6],\n",
       " [1, 7, 2, 5, 4, 1, 1, 6],\n",
       " [1, 7, 7, 7, 4, 1, 8, 6],\n",
       " [1, 6, 7, 2, 4, 3, 8, 4],\n",
       " [3, 7, 2, 2, 5, 1, 8, 6],\n",
       " [3, 7, 2, 2, 4, 1, 8, 4],\n",
       " [3, 7, 7, 2, 4, 1, 8, 6],\n",
       " [1, 2, 7, 2, 4, 3, 8, 6],\n",
       " [1, 6, 7, 2, 4, 1, 8, 6],\n",
       " [3, 6, 2, 2, 4, 1, 8, 4],\n",
       " [1, 6, 2, 2, 5, 1, 1, 4],\n",
       " [1, 7, 2, 5, 5, 1, 8, 4],\n",
       " [1, 6, 7, 2, 4, 3, 8, 6],\n",
       " [1, 6, 7, 2, 4, 1, 8, 4]]"
      ]
     },
     "execution_count": 37,
     "metadata": {},
     "output_type": "execute_result"
    }
   ],
   "source": [
    "fils5 = recombinacao(pais5)\n",
    "fils5"
   ]
  },
  {
   "cell_type": "code",
   "execution_count": 38,
   "metadata": {
    "scrolled": false
   },
   "outputs": [
    {
     "name": "stdout",
     "output_type": "stream",
     "text": [
      "[1, 3, 4, 4, 4, 2, 3, 5, 3, 1, 2, 3, 5, 3, 2, 6, 4, 7, 5, 3, 2, 4, 3, 4, 4, 3, 6, 5, 4, 3]\n"
     ]
    }
   ],
   "source": [
    "atk_fils5 = contagem_ataques(fils5)\n",
    "print(atk_fils5)"
   ]
  },
  {
   "cell_type": "code",
   "execution_count": 39,
   "metadata": {},
   "outputs": [
    {
     "data": {
      "text/plain": [
       "[[3, 7, 2, 2, 5, 1, 8, 1],\n",
       " [1, 7, 8, 7, 4, 1, 8, 6],\n",
       " [3, 7, 2, 2, 5, 5, 1, 4],\n",
       " [3, 7, 2, 2, 5, 1, 8, 2],\n",
       " [6, 2, 7, 7, 4, 3, 1, 6],\n",
       " [1, 7, 4, 5, 4, 1, 1, 6]]"
      ]
     },
     "execution_count": 39,
     "metadata": {},
     "output_type": "execute_result"
    }
   ],
   "source": [
    "muts5 = mutacao(fils5)\n",
    "muts5"
   ]
  },
  {
   "cell_type": "code",
   "execution_count": 40,
   "metadata": {},
   "outputs": [
    {
     "name": "stdout",
     "output_type": "stream",
     "text": [
      "[3, 6, 3, 4, 3, 9]\n"
     ]
    }
   ],
   "source": [
    "atk_muts5 = contagem_ataques(muts5)\n",
    "print(atk_muts5)"
   ]
  },
  {
   "cell_type": "code",
   "execution_count": 41,
   "metadata": {
    "collapsed": true
   },
   "outputs": [],
   "source": [
    "gp5 = pais5 + fils5 + muts5\n",
    "atk_gp5 = atk_pais5 + atk_fils5 + atk_muts5"
   ]
  },
  {
   "cell_type": "markdown",
   "metadata": {},
   "source": [
    "### Geração Final"
   ]
  },
  {
   "cell_type": "code",
   "execution_count": 42,
   "metadata": {
    "scrolled": false
   },
   "outputs": [
    {
     "name": "stdout",
     "output_type": "stream",
     "text": [
      "Gene: [3, 7, 2, 2, 5, 1, 8, 4] // Ataques: 1\n",
      "Gene: [3, 7, 2, 2, 5, 1, 8, 2] // Ataques: 1\n",
      "Gene: [3, 7, 2, 2, 5, 1, 8, 1] // Ataques: 1\n",
      "Gene: [3, 7, 2, 2, 5, 1, 1, 4] // Ataques: 2\n",
      "Gene: [3, 7, 2, 2, 5, 1, 1, 4] // Ataques: 2\n",
      "Gene: [3, 7, 2, 2, 5, 5, 1, 4] // Ataques: 3\n"
     ]
    }
   ],
   "source": [
    "pais_final = melhores_pior(gp5, atk_gp5)"
   ]
  }
 ],
 "metadata": {
  "kernelspec": {
   "display_name": "Python 3",
   "language": "python",
   "name": "python3"
  },
  "language_info": {
   "codemirror_mode": {
    "name": "ipython",
    "version": 3
   },
   "file_extension": ".py",
   "mimetype": "text/x-python",
   "name": "python",
   "nbconvert_exporter": "python",
   "pygments_lexer": "ipython3",
   "version": "3.6.2"
  }
 },
 "nbformat": 4,
 "nbformat_minor": 2
}
